{
 "cells": [
  {
   "cell_type": "code",
   "execution_count": 2,
   "metadata": {},
   "outputs": [],
   "source": [
    "from manim import *\n",
    "import numpy as np"
   ]
  },
  {
   "cell_type": "code",
   "execution_count": 3,
   "metadata": {},
   "outputs": [],
   "source": [
    "computer = SVGMobject(\n",
    "    \"./figures/computer.svg\",\n",
    "    stroke_color=WHITE,\n",
    "    color=WHITE,\n",
    "    fill_color=WHITE,\n",
    "    opacity=1,\n",
    "    stroke_width=0.01,\n",
    ")\n",
    "product_calc = SVGMobject(\n",
    "    \"./figures/product_calc.svg\",\n",
    "    stroke_color=WHITE,\n",
    "    color=WHITE,\n",
    "    fill_color=WHITE,\n",
    "    opacity=1,\n",
    "    stroke_width=0.01,\n",
    ")\n",
    "bp_filter = SVGMobject(\n",
    "    \"./figures/filter.svg\",\n",
    "    stroke_color=WHITE,\n",
    "    color=WHITE,\n",
    "    fill_color=WHITE,\n",
    "    opacity=1,\n",
    "    stroke_width=0.01,\n",
    ")\n",
    "window_function = SVGMobject(\n",
    "    \"./figures/window_function.svg\",\n",
    "    stroke_color=WHITE,\n",
    "    color=WHITE,\n",
    "    fill_color=WHITE,\n",
    "    opacity=1,\n",
    "    stroke_width=0.01,\n",
    ")\n",
    "adc = SVGMobject(\n",
    "    \"./figures/adc.svg\",\n",
    "    stroke_color=WHITE,\n",
    "    color=WHITE,\n",
    "    fill_color=WHITE,\n",
    "    opacity=1,\n",
    "    stroke_width=0.01,\n",
    ")\n",
    "range_norm = SVGMobject(\n",
    "    \"./figures/range_norm.svg\",\n",
    "    stroke_color=WHITE,\n",
    "    color=WHITE,\n",
    "    fill_color=WHITE,\n",
    "    opacity=1,\n",
    "    stroke_width=0.01,\n",
    ")"
   ]
  },
  {
   "cell_type": "code",
   "execution_count": 6,
   "metadata": {},
   "outputs": [
    {
     "data": {
      "text/plain": [
       "array([[[-1.32111473,  0.        ,  0.        ],\n",
       "        [ 1.32111473,  0.        ,  0.        ],\n",
       "        [ 3.82111473,  0.        ,  0.        ]],\n",
       "\n",
       "       [[-1.        ,  0.        ,  0.        ],\n",
       "        [ 1.        ,  0.        ,  0.        ],\n",
       "        [ 3.5       ,  0.        ,  0.        ]]])"
      ]
     },
     "execution_count": 6,
     "metadata": {},
     "output_type": "execute_result"
    }
   ],
   "source": [
    "blocks = [adc, window_function, bp_filter, range_norm, product_calc, computer]\n",
    "coords = np.array(\n",
    "    [\n",
    "block.get_right()\n",
    "        for block in blocks\n",
    "    ]\n",
    ")\n",
    "coords[:2]"
   ]
  },
  {
   "cell_type": "code",
   "execution_count": 16,
   "metadata": {},
   "outputs": [
    {
     "data": {
      "text/plain": [
       "array([[1.32111473, 0.        , 0.        ],\n",
       "       [2.32111473, 0.        , 0.        ],\n",
       "       [3.32111473, 0.        , 0.        ],\n",
       "       [4.32111473, 0.        , 0.        ],\n",
       "       [5.32111473, 0.        , 0.        ],\n",
       "       [6.2924689 , 0.        , 0.        ]])"
      ]
     },
     "execution_count": 16,
     "metadata": {},
     "output_type": "execute_result"
    }
   ],
   "source": [
    "coords[:, 1].cumsum(axis=0)  # + RIGHT * 2.5"
   ]
  }
 ],
 "metadata": {
  "kernelspec": {
   "display_name": "data",
   "language": "python",
   "name": "python3"
  },
  "language_info": {
   "codemirror_mode": {
    "name": "ipython",
    "version": 3
   },
   "file_extension": ".py",
   "mimetype": "text/x-python",
   "name": "python",
   "nbconvert_exporter": "python",
   "pygments_lexer": "ipython3",
   "version": "3.11.3"
  }
 },
 "nbformat": 4,
 "nbformat_minor": 2
}
